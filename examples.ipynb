{
 "cells": [
  {
   "attachments": {},
   "cell_type": "markdown",
   "metadata": {},
   "source": [
    "# Ukázka využití knihovny"
   ]
  },
  {
   "attachments": {},
   "cell_type": "markdown",
   "metadata": {},
   "source": [
    "## Vytvoření grafu\n",
    "\n",
    "Pro vytvoření grafu importujeme `Graph` z knihovny `graphmanager`.\n",
    "\n",
    "**Vrcholy** se přidávají metodou `add_vertex()`, která navíc přijímá parametry pro x a y souřadnice, nejlépe v intervalu $[0,1]$. Tyto souřadnice jsou důležité pouze pro grafické vykreslení a dají se změnit pomocí metody `move_vertex()`.\n",
    "\n",
    "Graf samotný lze vypsat pomocí `print()`. Nyní je graf docela prázdný, a tak se vypíše pouze seznam vrcholů."
   ]
  },
  {
   "cell_type": "code",
   "execution_count": 1,
   "metadata": {},
   "outputs": [
    {
     "name": "stdout",
     "output_type": "stream",
     "text": [
      "Graph:\n",
      "   0 - 0, {}\n",
      "   1 - 0, {}\n",
      "   2 - 0, {}\n",
      "   3 - 0, {}\n",
      "\n"
     ]
    }
   ],
   "source": [
    "from graphmanager import Graph\n",
    "\n",
    "g = Graph()\n",
    "\n",
    "g.add_vertex(0.4, 0.55)\n",
    "g.add_vertex(0.3, 0.25)\n",
    "g.add_vertex(0.1, 0.3)\n",
    "g.add_vertex(0.23, 0.5)\n",
    "\n",
    "print(g)"
   ]
  },
  {
   "attachments": {},
   "cell_type": "markdown",
   "metadata": {},
   "source": [
    "**Hrany** se přidávají i mění metodou `set_connection()`. Tato metoda potřebuje jako vstup indexy vrcholů, které chceme propojit, váhu hrany (defaultně 1) a také jestli chceme aby hrana šla na obě strany, nebo pouze v jednom směru (defaultně jednosměrná).\n",
    "\n",
    "Hodnoty při vypisování pomocí print jsou ve tvaru `INDEX - STAV, {HRANY}`, přičemž hrany jsou ve tvaru `SOUSED: VÁHA`."
   ]
  },
  {
   "cell_type": "code",
   "execution_count": 2,
   "metadata": {},
   "outputs": [
    {
     "name": "stdout",
     "output_type": "stream",
     "text": [
      "Graph:\n",
      "   0 - 0, {1: 0.3}\n",
      "   1 - 0, {2: 1}\n",
      "   2 - 0, {1: 1, 3: 4}\n",
      "   3 - 0, {2: 4, 1: 1.5}\n",
      "\n"
     ]
    }
   ],
   "source": [
    "g.set_connection(1, 2, 1, bidirectional=True)\n",
    "g.set_connection(2, 3, 4, bidirectional=True)\n",
    "g.set_connection(3, 1, 1.5, False)\n",
    "g.set_connection(0, 1, 0.3, False)\n",
    "\n",
    "print(g)"
   ]
  },
  {
   "attachments": {},
   "cell_type": "markdown",
   "metadata": {},
   "source": [
    "## Lepší vytváření grafu\n",
    "\n",
    "Jelikož vytváření větších a komplexnějších grafů by zabralo moc práce, tak složka `modules` obsahuje pomocný soubor `graphconstructor.py`.\n",
    "\n",
    "Tento soubor obsahuje 3 funkce pro rychlé vytvoření podgrafu ve tvaru cesty, cyklu nebo jako kompletní graf. Všechny funkce jako vstup berou graf `g`, počet nových vrcholů `n`, hodnotu `weight` pro nastavení váhy hran mezi novými vrcholy, a dále argumenty pro pozici podgrafu."
   ]
  },
  {
   "cell_type": "code",
   "execution_count": 3,
   "metadata": {},
   "outputs": [
    {
     "name": "stdout",
     "output_type": "stream",
     "text": [
      "Graph:\n",
      "   0 - 0, {1: 0.3}\n",
      "   1 - 0, {2: 1}\n",
      "   2 - 0, {1: 1, 3: 4}\n",
      "   3 - 0, {2: 4, 1: 1.5}\n",
      "   4 - 0, {5: 2, 8: 2}\n",
      "   5 - 0, {4: 2, 6: 2}\n",
      "   6 - 0, {5: 2, 7: 2}\n",
      "   7 - 0, {6: 2, 8: 2}\n",
      "   8 - 0, {7: 2, 4: 2}\n",
      "   9 - 0, {10: 1.2}\n",
      "  10 - 0, {9: 1.2, 11: 1.2}\n",
      "  11 - 0, {10: 1.2}\n",
      "\n"
     ]
    }
   ],
   "source": [
    "from modules.graphconstructor import add_path, add_cycle\n",
    "\n",
    "add_cycle(g, 5, 2, 0.7, 0.3, 0.2)\n",
    "add_path(g, 3, 1.2, 0.14, 0.75, 0.5, -0.1)\n",
    "\n",
    "print(g)"
   ]
  },
  {
   "attachments": {},
   "cell_type": "markdown",
   "metadata": {},
   "source": [
    "## Vykreslení grafu\n",
    "\n",
    "Protože z výpisu vrcholů toho nejde příliš moc poznat, tak lze graf exportovat do svg souboru pomocí metody `export_svg()`.\n",
    "\n",
    "Aby šel exportovaný obrázek vidět v jupyter notebooku, importujeme ještě `SVG`."
   ]
  },
  {
   "cell_type": "code",
   "execution_count": 4,
   "metadata": {},
   "outputs": [
    {
     "data": {
      "image/svg+xml": "<svg width=\"600\" height=\"400\" stroke-width=\"2.5\" stroke=\"black\" fill=\"white\" version=\"1.1\">\n<defs>\n\t<marker id=\"arrow\" viewBox=\"0 0 10 10\" refX=\"10\" refY=\"5\" markerWidth=\"6\" markerHeight=\"6\" orient=\"auto-start-reverse\" fill=\"black\" stroke=\"none\">\n\t\t<path d=\"M 0 0 L 10 5 L 0 10 z\"/>\n\t</marker>\n</defs>\n<style>\n\t.num {\n\t\tfont: 25px sans-serif;\n\t\tfill: black;\n\t\tstroke: white;\n\t\tstroke-width: 5.0;\n\t\tpaint-order: stroke;\n\t\ttext-anchor: middle;\n\t\tdominant-baseline: middle;\n\t}\n</style>\n<rect width=\"100%\" height=\"100%\" stroke=\"none\"/>\n\n<!-- Edges -->\n<g>\n\t<line x1=\"228.81966011250105\" y1=\"197.63932022500214\" x2=\"191.18033988749895\" y2=\"122.36067977499789\" marker-end=\"url(#arrow)\"/>\n\t<line x1=\"155.3401519041964\" y1=\"104.10997468263393\" x2=\"84.6598480958036\" y2=\"115.89002531736607\"/>\n\t<line x1=\"77.4525034032385\" y1=\"137.90000349050104\" x2=\"120.5474965967615\" y2=\"182.09999650949896\"/>\n\t<line x1=\"147.6808121088773\" y1=\"176.95044735981597\" x2=\"170.3191878911227\" y2=\"123.04955264018403\" marker-end=\"url(#arrow)\"/>\n\t<line x1=\"442.499650625886\" y1=\"50.89796869664571\" x2=\"511.62713132953246\" y2=\"84.38067175335847\"/>\n\t<line x1=\"397.5003493741141\" y1=\"50.89796869664572\" x2=\"328.3728686704675\" y2=\"84.38067175335851\"/>\n\t<line x1=\"523.1739130236768\" y1=\"117.75161671404383\" x2=\"501.48709920683837\" y2=\"162.24838328595615\"/>\n\t<line x1=\"465.5342302750968\" y1=\"184.72135954999578\" x2=\"374.4657697249032\" y2=\"184.7213595499958\"/>\n\t<line x1=\"338.51290079316163\" y1=\"162.24838328595615\" x2=\"316.82608697632315\" y2=\"117.75161671404388\"/>\n\t<line x1=\"108.94425894399922\" y1=\"301.66851602770714\" x2=\"208.30636584770465\" y2=\"308.3148256369757\"/>\n\t<line x1=\"258.19488373570306\" y1=\"311.65185769238997\" x2=\"357.5569906394085\" y2=\"318.2981673016585\"/>\n</g>\n\n<!-- Weights -->\n<g>\n\t<text x=\"210.0\" y=\"160.0\" class=\"num\">0.3</text>\n\t<text x=\"120.0\" y=\"110.0\" class=\"num\">1</text>\n\t<text x=\"99.0\" y=\"160.0\" class=\"num\">4</text>\n\t<text x=\"159.0\" y=\"150.0\" class=\"num\">1.5</text>\n\t<text x=\"477.0633909777092\" y=\"67.6393202250021\" class=\"num\">2</text>\n\t<text x=\"362.9366090222908\" y=\"67.63932022500211\" class=\"num\">2</text>\n\t<text x=\"512.3305061152575\" y=\"140.0\" class=\"num\">2</text>\n\t<text x=\"420.0\" y=\"184.72135954999578\" class=\"num\">2</text>\n\t<text x=\"327.6694938847424\" y=\"140.0\" class=\"num\">2</text>\n\t<text x=\"158.62531239585195\" y=\"304.9916708323414\" class=\"num\">1.2</text>\n\t<text x=\"307.8759371875558\" y=\"314.97501249702424\" class=\"num\">1.2</text>\n</g>\n\n<!-- Vertices -->\n<g>\n\t<circle cx=\"240.0\" cy=\"220.00000000000003\" r=\"25\"/>\n\t<text x=\"240.0\" y=\"220.00000000000003\" class=\"num\">0</text>\n\t<circle cx=\"180.0\" cy=\"100.0\" r=\"25\"/>\n\t<text x=\"180.0\" y=\"100.0\" class=\"num\">1</text>\n\t<circle cx=\"60.0\" cy=\"120.0\" r=\"25\"/>\n\t<text x=\"60.0\" y=\"120.0\" class=\"num\">2</text>\n\t<circle cx=\"138.0\" cy=\"200.0\" r=\"25\"/>\n\t<text x=\"138.0\" y=\"200.0\" class=\"num\">3</text>\n\t<circle cx=\"420.0\" cy=\"39.99999999999999\" r=\"25\"/>\n\t<text x=\"420.0\" y=\"39.99999999999999\" class=\"num\">4</text>\n\t<circle cx=\"534.1267819554184\" cy=\"95.27864045000419\" r=\"25\"/>\n\t<text x=\"534.1267819554184\" y=\"95.27864045000419\" class=\"num\">5</text>\n\t<circle cx=\"490.5342302750968\" cy=\"184.72135954999578\" r=\"25\"/>\n\t<text x=\"490.5342302750968\" y=\"184.72135954999578\" class=\"num\">6</text>\n\t<circle cx=\"349.4657697249032\" cy=\"184.7213595499958\" r=\"25\"/>\n\t<text x=\"349.4657697249032\" y=\"184.7213595499958\" class=\"num\">7</text>\n\t<circle cx=\"305.87321804458156\" cy=\"95.27864045000423\" r=\"25\"/>\n\t<text x=\"305.87321804458156\" y=\"95.27864045000423\" class=\"num\">8</text>\n\t<circle cx=\"84.00000000000001\" cy=\"300.0\" r=\"25\"/>\n\t<text x=\"84.00000000000001\" y=\"300.0\" class=\"num\">9</text>\n\t<circle cx=\"233.25062479170387\" cy=\"309.9833416646828\" r=\"25\"/>\n\t<text x=\"233.25062479170387\" y=\"309.9833416646828\" class=\"num\">10</text>\n\t<circle cx=\"382.50124958340774\" cy=\"319.96668332936565\" r=\"25\"/>\n\t<text x=\"382.50124958340774\" y=\"319.96668332936565\" class=\"num\">11</text>\n</g>\n</svg>",
      "text/plain": [
       "<IPython.core.display.SVG object>"
      ]
     },
     "metadata": {},
     "output_type": "display_data"
    }
   ],
   "source": [
    "from IPython.display import SVG\n",
    "\n",
    "g.export_svg(\"out.svg\", width=600, height=400, show_vertex_ids=True, show_weights=True)\n",
    "\n",
    "display(SVG(filename=\"out.svg\"))"
   ]
  },
  {
   "attachments": {},
   "cell_type": "markdown",
   "metadata": {},
   "source": [
    "## Ukládání a načítání grafu\n",
    "\n",
    "Graf lze uložit za pomoci metody `save_file()` a naopak načíst pomocí metody `load_file()`."
   ]
  },
  {
   "cell_type": "code",
   "execution_count": 5,
   "metadata": {},
   "outputs": [
    {
     "name": "stdout",
     "output_type": "stream",
     "text": [
      "# This is an example saved graph\n",
      "# Lines with '#' symbol at the beginning are considered comments\n",
      "\n",
      "# Numbers after 'v' denote locations of all vertices\n",
      "# All these values should be in range [0,1]\n",
      "v\n",
      "0.1 0.1\n",
      "0.5 0.2\n",
      "0.3 0.5\n",
      "0.8 0.8\n",
      "\n",
      "# Numbers after 'e' denote weights of edges\n",
      "# The values for edges are in order FROM TO WEIGHT\n",
      "e\n",
      "0 1 8\n",
      "0 2 1\n",
      "1 0 8\n",
      "1 3 2\n",
      "2 1 3\n",
      "2 3 6\n",
      "3 1 2\n",
      "3 2 7\n",
      "\n",
      "# Loading graphs is done using Graph.load_file()"
     ]
    },
    {
     "data": {
      "image/svg+xml": "<svg width=\"400\" height=\"400\" stroke-width=\"2.5\" stroke=\"black\" fill=\"white\" version=\"1.1\">\n<defs>\n\t<marker id=\"arrow\" viewBox=\"0 0 10 10\" refX=\"10\" refY=\"5\" markerWidth=\"6\" markerHeight=\"6\" orient=\"auto-start-reverse\" fill=\"black\" stroke=\"none\">\n\t\t<path d=\"M 0 0 L 10 5 L 0 10 z\"/>\n\t</marker>\n</defs>\n<style>\n\t.num {\n\t\tfont: 25px sans-serif;\n\t\tfill: black;\n\t\tstroke: white;\n\t\tstroke-width: 5.0;\n\t\tpaint-order: stroke;\n\t\ttext-anchor: middle;\n\t\tdominant-baseline: middle;\n\t}\n</style>\n<rect width=\"100%\" height=\"100%\" stroke=\"none\"/>\n\n<!-- Edges -->\n<g>\n\t<line x1=\"64.2535625036333\" y1=\"46.063390625908326\" x2=\"175.7464374963667\" y2=\"73.93660937409167\"/>\n\t<line x1=\"51.180339887498945\" y1=\"62.3606797749979\" x2=\"108.81966011250105\" y2=\"177.6393202250021\" marker-end=\"url(#arrow)\"/>\n\t<line x1=\"211.18033988749895\" y1=\"102.36067977499789\" x2=\"308.819660112501\" y2=\"297.6393202250021\"/>\n\t<line x1=\"133.86750490563074\" y1=\"179.1987426415539\" x2=\"186.13249509436926\" y2=\"100.8012573584461\" marker-end=\"url(#arrow)\"/>\n\t<line x1=\"144.99646337365672\" y1=\"200.42049828708076\" x2=\"307.86593051203147\" y2=\"298.1421785701056\" marker-end=\"url(#arrow)\"/>\n\t<line x1=\"132.13406948796856\" y1=\"221.8578214298944\" x2=\"295.00353662634325\" y2=\"319.57950171291924\" marker-start=\"url(#arrow)\"/>\n</g>\n\n<!-- Weights -->\n<g>\n\t<text x=\"120.0\" y=\"60.0\" class=\"num\">8</text>\n\t<text x=\"80.0\" y=\"120.0\" class=\"num\">1</text>\n\t<text x=\"260.0\" y=\"200.0\" class=\"num\">2</text>\n\t<text x=\"160.0\" y=\"140.0\" class=\"num\">3</text>\n\t<text x=\"226.43119694284408\" y=\"249.2813384285932\" class=\"num\">6</text>\n\t<text x=\"213.56880305715592\" y=\"270.7186615714068\" class=\"num\">7</text>\n</g>\n\n<!-- Vertices -->\n<g>\n\t<circle cx=\"40.0\" cy=\"40.0\" r=\"25\"/>\n\t<text x=\"40.0\" y=\"40.0\" class=\"num\">0</text>\n\t<circle cx=\"200.0\" cy=\"80.0\" r=\"25\"/>\n\t<text x=\"200.0\" y=\"80.0\" class=\"num\">1</text>\n\t<circle cx=\"120.0\" cy=\"200.0\" r=\"25\"/>\n\t<text x=\"120.0\" y=\"200.0\" class=\"num\">2</text>\n\t<circle cx=\"320.0\" cy=\"320.0\" r=\"25\"/>\n\t<text x=\"320.0\" y=\"320.0\" class=\"num\">3</text>\n</g>\n</svg>",
      "text/plain": [
       "<IPython.core.display.SVG object>"
      ]
     },
     "metadata": {},
     "output_type": "display_data"
    }
   ],
   "source": [
    "#show example in text form\n",
    "%cat \"./various/example.graph\"\n",
    "\n",
    "#load example\n",
    "h = Graph()\n",
    "h.load_file(\"./various/example.graph\")\n",
    "h.export_svg(\"out.svg\", width=400, height=400, show_vertex_ids=True, show_weights=True)\n",
    "display(SVG(filename=\"out.svg\"))"
   ]
  },
  {
   "cell_type": "code",
   "execution_count": 6,
   "metadata": {},
   "outputs": [
    {
     "name": "stdout",
     "output_type": "stream",
     "text": [
      "# File generated by GraphManager\n",
      "\n",
      "v\n",
      "0.4 0.55\n",
      "0.3 0.25\n",
      "0.1 0.3\n",
      "0.23 0.5\n",
      "0.7 0.09999999999999998\n",
      "0.8902113032590306 0.23819660112501048\n",
      "0.8175570504584946 0.46180339887498945\n",
      "0.5824429495415053 0.4618033988749895\n",
      "0.5097886967409693 0.23819660112501057\n",
      "0.14 0.75\n",
      "0.38875104131950644 0.774958354161707\n",
      "0.6375020826390129 0.7999167083234141\n",
      "\n",
      "e\n",
      "0 1 0.3\n",
      "1 2 1\n",
      "2 1 1\n",
      "2 3 4\n",
      "3 2 4\n",
      "3 1 1.5\n",
      "4 5 2\n",
      "4 8 2\n",
      "5 4 2\n",
      "5 6 2\n",
      "6 5 2\n",
      "6 7 2\n",
      "7 6 2\n",
      "7 8 2\n",
      "8 7 2\n",
      "8 4 2\n",
      "9 10 1.2\n",
      "10 9 1.2\n",
      "10 11 1.2\n",
      "11 10 1.2\n"
     ]
    }
   ],
   "source": [
    "#save graph and show file\n",
    "g.save_file(\"saved.graph\")\n",
    "%cat \"saved.graph\""
   ]
  },
  {
   "attachments": {},
   "cell_type": "markdown",
   "metadata": {},
   "source": [
    "## Využití algoritmů\n",
    "\n",
    "Soubory s algoritmy jsou uloženy ve složce `modules`. Pro ukázku využijeme graf `alg_showcase.graph`."
   ]
  },
  {
   "cell_type": "code",
   "execution_count": 7,
   "metadata": {},
   "outputs": [
    {
     "data": {
      "image/svg+xml": "<svg width=\"500\" height=\"500\" stroke-width=\"2.5\" stroke=\"black\" fill=\"white\" version=\"1.1\">\n<defs>\n\t<marker id=\"arrow\" viewBox=\"0 0 10 10\" refX=\"10\" refY=\"5\" markerWidth=\"6\" markerHeight=\"6\" orient=\"auto-start-reverse\" fill=\"black\" stroke=\"none\">\n\t\t<path d=\"M 0 0 L 10 5 L 0 10 z\"/>\n\t</marker>\n</defs>\n<style>\n\t.num {\n\t\tfont: 25px sans-serif;\n\t\tfill: black;\n\t\tstroke: white;\n\t\tstroke-width: 5.0;\n\t\tpaint-order: stroke;\n\t\ttext-anchor: middle;\n\t\tdominant-baseline: middle;\n\t}\n</style>\n<rect width=\"100%\" height=\"100%\" stroke=\"none\"/>\n\n<!-- Edges -->\n<g>\n\t<line x1=\"192.09430584957906\" y1=\"251.28291754873715\" x2=\"157.90569415042094\" y2=\"148.71708245126285\" marker-end=\"url(#arrow)\"/>\n\t<line x1=\"125.7464374963667\" y1=\"131.0633906259083\" x2=\"74.2535625036333\" y2=\"143.9366093740917\"/>\n\t<line x1=\"174.96052424767586\" y1=\"123.59563919123852\" x2=\"229.93382412280877\" y2=\"120.50266137126677\" marker-end=\"url(#arrow)\"/>\n\t<line x1=\"170.00097934468977\" y1=\"139.99869411826555\" x2=\"271.2204954260629\" y2=\"215.9030053192292\"/>\n\t<line x1=\"63.624708764885355\" y1=\"170.96109040751594\" x2=\"101.37529123511464\" y2=\"229.03890959248406\"/>\n\t<line x1=\"121.74074813799928\" y1=\"225.92589950714546\" x2=\"143.25925186200072\" y2=\"149.07410049285454\" marker-end=\"url(#arrow)\"/>\n\t<line x1=\"106.53201329318145\" y1=\"273.5221852967182\" x2=\"78.46798670681855\" y2=\"351.4778147032818\"/>\n\t<line x1=\"370.2254248593737\" y1=\"64.69463130731182\" x2=\"424.88022677014163\" y2=\"104.4036692551934\"/>\n\t<line x1=\"329.7745751406263\" y1=\"64.69463130731182\" x2=\"275.1197732298583\" y2=\"104.40366925519345\"/>\n\t<line x1=\"342.2745751406263\" y1=\"73.77641290737883\" x2=\"298.9468996301263\" y2=\"207.12528653011591\"/>\n\t<line x1=\"437.38022677014163\" y1=\"142.87471346988409\" x2=\"416.50395008862097\" y2=\"207.1252865301159\"/>\n\t<line x1=\"383.7785252292473\" y1=\"230.90169943749473\" x2=\"316.22147477075265\" y2=\"230.90169943749476\"/>\n\t<line x1=\"283.496049911379\" y1=\"207.12528653011591\" x2=\"262.6197732298583\" y2=\"142.8747134698841\"/>\n\t<line x1=\"307.0387668351259\" y1=\"250.2617942655248\" x2=\"327.6087292280696\" y2=\"376.5801300008668\" marker-end=\"url(#arrow)\"/>\n\t<line x1=\"282.3637868621895\" y1=\"254.279923598335\" x2=\"302.9337492551332\" y2=\"380.598259333677\" marker-start=\"url(#arrow)\"/>\n\t<line x1=\"94.87510413195065\" y1=\"377.4958354161707\" x2=\"169.50041652780257\" y2=\"384.9833416646828\"/>\n\t<line x1=\"219.25062479170387\" y1=\"389.97501249702424\" x2=\"293.8759371875558\" y2=\"397.46251874553633\"/>\n\t<line x1=\"195.62407633585693\" y1=\"362.51037437179934\" x2=\"198.7514443238963\" y2=\"299.96880270905416\" marker-end=\"url(#arrow)\"/>\n\t<line x1=\"330.5019179169423\" y1=\"377.89216057985357\" x2=\"397.0276486318114\" y2=\"252.96789301934825\" marker-end=\"url(#arrow)\"/>\n</g>\n\n<!-- Weights -->\n<g>\n\t<text x=\"175.0\" y=\"200.0\" class=\"num\">3</text>\n\t<text x=\"100.0\" y=\"137.5\" class=\"num\">1</text>\n\t<text x=\"202.44717418524232\" y=\"122.04915028125265\" class=\"num\">4</text>\n\t<text x=\"220.61073738537632\" y=\"177.95084971874738\" class=\"num\">2</text>\n\t<text x=\"82.5\" y=\"200.0\" class=\"num\">4</text>\n\t<text x=\"132.5\" y=\"187.5\" class=\"num\">1.5</text>\n\t<text x=\"92.5\" y=\"312.5\" class=\"num\">2</text>\n\t<text x=\"397.5528258147576\" y=\"84.54915028125262\" class=\"num\">2</text>\n\t<text x=\"302.4471741852423\" y=\"84.54915028125264\" class=\"num\">2</text>\n\t<text x=\"320.6107373853763\" y=\"140.45084971874738\" class=\"num\">0.1</text>\n\t<text x=\"426.94208842938133\" y=\"175.0\" class=\"num\">2</text>\n\t<text x=\"350.0\" y=\"230.90169943749476\" class=\"num\">2</text>\n\t<text x=\"273.05791157061867\" y=\"175.0\" class=\"num\">2</text>\n\t<text x=\"317.32374803159775\" y=\"313.4209621331958\" class=\"num\">6</text>\n\t<text x=\"292.64876805866135\" y=\"317.439091466006\" class=\"num\">3</text>\n\t<text x=\"132.1877603298766\" y=\"381.2395885404268\" class=\"num\">1.2</text>\n\t<text x=\"256.56328098962985\" y=\"393.7187656212803\" class=\"num\">1.2</text>\n\t<text x=\"197.1877603298766\" y=\"331.2395885404268\" class=\"num\">0.9</text>\n\t<text x=\"363.7647832743769\" y=\"315.4300267996009\" class=\"num\">5</text>\n</g>\n\n<!-- Vertices -->\n<g>\n\t<circle cx=\"200.0\" cy=\"275.0\" r=\"25\"/>\n\t<text x=\"200.0\" y=\"275.0\" class=\"num\">0</text>\n\t<circle cx=\"150.0\" cy=\"125.0\" r=\"25\"/>\n\t<text x=\"150.0\" y=\"125.0\" class=\"num\">1</text>\n\t<circle cx=\"50.0\" cy=\"150.0\" r=\"25\"/>\n\t<text x=\"50.0\" y=\"150.0\" class=\"num\">2</text>\n\t<circle cx=\"115.0\" cy=\"250.0\" r=\"25\"/>\n\t<text x=\"115.0\" y=\"250.0\" class=\"num\">3</text>\n\t<circle cx=\"350.0\" cy=\"49.999999999999986\" r=\"25\"/>\n\t<text x=\"350.0\" y=\"49.999999999999986\" class=\"num\">4</text>\n\t<circle cx=\"445.1056516295153\" cy=\"119.09830056250524\" r=\"25\"/>\n\t<text x=\"445.1056516295153\" y=\"119.09830056250524\" class=\"num\">5</text>\n\t<circle cx=\"408.7785252292473\" cy=\"230.90169943749473\" r=\"25\"/>\n\t<text x=\"408.7785252292473\" y=\"230.90169943749473\" class=\"num\">6</text>\n\t<circle cx=\"291.22147477075265\" cy=\"230.90169943749476\" r=\"25\"/>\n\t<text x=\"291.22147477075265\" y=\"230.90169943749476\" class=\"num\">7</text>\n\t<circle cx=\"254.89434837048464\" cy=\"119.09830056250529\" r=\"25\"/>\n\t<text x=\"254.89434837048464\" y=\"119.09830056250529\" class=\"num\">8</text>\n\t<circle cx=\"70.0\" cy=\"375.0\" r=\"25\"/>\n\t<text x=\"70.0\" y=\"375.0\" class=\"num\">9</text>\n\t<circle cx=\"194.37552065975322\" cy=\"387.4791770808535\" r=\"25\"/>\n\t<text x=\"194.37552065975322\" y=\"387.4791770808535\" class=\"num\">10</text>\n\t<circle cx=\"318.75104131950644\" cy=\"399.95835416170706\" r=\"25\"/>\n\t<text x=\"318.75104131950644\" y=\"399.95835416170706\" class=\"num\">11</text>\n\t<circle cx=\"450.0\" cy=\"425.0\" r=\"25\"/>\n\t<text x=\"450.0\" y=\"425.0\" class=\"num\">12</text>\n</g>\n</svg>",
      "text/plain": [
       "<IPython.core.display.SVG object>"
      ]
     },
     "metadata": {},
     "output_type": "display_data"
    }
   ],
   "source": [
    "from modules.alg1 import dfs, bfs\n",
    "\n",
    "g.load_file(\"various/alg_showcase.graph\")\n",
    "g.export_svg(\"out.svg\", show_vertex_ids=True, show_weights=True)\n",
    "display(SVG(filename=\"out.svg\"))"
   ]
  },
  {
   "attachments": {},
   "cell_type": "markdown",
   "metadata": {},
   "source": [
    "### DFS, BFS\n",
    "\n",
    "DFS (depth-first search) i BFS (breadth-first search) přijímají jako parametry graf `graph` a vrcholy `v_start` a `v_end`, které označují odkud a kam chceme hledat cestu.\n",
    "\n",
    "Obě funkce vrací tuple `(bool, float, list)` jako výsledek. První hodnota označuje, jestli chtěná cesta vůbec existuje. Druhá hodnota značí délku nalezené cesty. Poslední hodnota je seznam vrcholů, přes které cesta vede.\n",
    "\n",
    "Funkce těchto algoritmů by měla být známa z předmětu Algoritmy I."
   ]
  },
  {
   "cell_type": "code",
   "execution_count": 8,
   "metadata": {},
   "outputs": [
    {
     "name": "stdout",
     "output_type": "stream",
     "text": [
      "Hledání cesty z 9 do 8:\n",
      "DFS: (True, 13.399999999999999, [9, 10, 11, 7, 6, 5, 4, 8])\n",
      "BFS: (True, 7.5, [9, 3, 1, 8])\n"
     ]
    }
   ],
   "source": [
    "#change these values to see the algoritmhs in action\n",
    "vertex_1 = 9\n",
    "vertex_2 = 8\n",
    "\n",
    "print(f\"Hledání cesty z {vertex_1} do {vertex_2}:\\nDFS: {dfs(g, vertex_1, vertex_2)}\\nBFS: {bfs(g, vertex_1, vertex_2)}\")"
   ]
  }
 ],
 "metadata": {
  "kernelspec": {
   "display_name": "Python 3",
   "language": "python",
   "name": "python3"
  },
  "language_info": {
   "codemirror_mode": {
    "name": "ipython",
    "version": 3
   },
   "file_extension": ".py",
   "mimetype": "text/x-python",
   "name": "python",
   "nbconvert_exporter": "python",
   "pygments_lexer": "ipython3",
   "version": "3.10.6"
  },
  "orig_nbformat": 4
 },
 "nbformat": 4,
 "nbformat_minor": 2
}
