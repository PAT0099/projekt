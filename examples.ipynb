{
 "cells": [
  {
   "attachments": {},
   "cell_type": "markdown",
   "metadata": {},
   "source": [
    "# Ukázka využití"
   ]
  },
  {
   "attachments": {},
   "cell_type": "markdown",
   "metadata": {},
   "source": [
    "## Vytvoření grafu\n",
    "\n",
    "Pro vytvoření grafu importujeme `Graph` z knihovny `graphmanager`.\n",
    "\n",
    "**Vrcholy** se přidávají metodou `add_vertex()`, která navíc přijímá parametry pro x a y souřadnice, nejlépe v intervalu $[0,1]$. Tyto souřadnice jsou důležité pouze pro grafické vykreslení a dají se změnit pomocí metody `move_vertex()`.\n",
    "\n",
    "Graf samotný lze vypsat pomocí `print()`. Nyní je graf docela prázdný, a tak se vypíše pouze seznam vrcholů."
   ]
  },
  {
   "cell_type": "code",
   "execution_count": 1,
   "metadata": {},
   "outputs": [
    {
     "name": "stdout",
     "output_type": "stream",
     "text": [
      "Graph:\n",
      "   0 - 0, {}\n",
      "   1 - 0, {}\n",
      "   2 - 0, {}\n",
      "   3 - 0, {}\n",
      "\n"
     ]
    }
   ],
   "source": [
    "from gm import Graph\n",
    "\n",
    "g = Graph()\n",
    "\n",
    "g.add_vertex(0.4, 0.55)\n",
    "g.add_vertex(0.3, 0.25)\n",
    "g.add_vertex(0.1, 0.3)\n",
    "g.add_vertex(0.23, 0.5)\n",
    "\n",
    "print(g)"
   ]
  },
  {
   "attachments": {},
   "cell_type": "markdown",
   "metadata": {},
   "source": [
    "**Hrany** se přidávají i mění metodou `set_connection()`. Tato metoda potřebuje jako vstup indexy vrcholů, které chceme propojit, váhu hrany (defaultně 1) a také jestli chceme aby hrana šla na obě strany, nebo pouze v jednom směru (defaultně obousměrná).\n",
    "\n",
    "Hodnoty při vypisování pomocí print jsou ve tvaru `INDEX - STAV, {HRANY}`, přičemž hrany jsou ve tvaru `SOUSED: VÁHA`."
   ]
  },
  {
   "cell_type": "code",
   "execution_count": 2,
   "metadata": {},
   "outputs": [
    {
     "name": "stdout",
     "output_type": "stream",
     "text": [
      "Graph:\n",
      "   0 - 0, {1: 0.3}\n",
      "   1 - 0, {2: 1}\n",
      "   2 - 0, {1: 1, 3: 4}\n",
      "   3 - 0, {2: 4, 1: 1.5}\n",
      "\n"
     ]
    }
   ],
   "source": [
    "g.set_connection(1, 2, 1, True)\n",
    "g.set_connection(2, 3, 4, True)\n",
    "g.set_connection(3, 1, 1.5, False)\n",
    "g.set_connection(0, 1, 0.3, False)\n",
    "\n",
    "print(g)"
   ]
  },
  {
   "attachments": {},
   "cell_type": "markdown",
   "metadata": {},
   "source": [
    "## Lepší vytváření grafu\n",
    "\n",
    "Jelikož vytváření větších a komplexnějších grafů by zabralo moc práce, tak složka `modules` obsahuje pomocný soubor `graphconstructor.py`.\n",
    "\n",
    "Tento soubor obsahuje 3 funkce pro rychlé vytvoření podgrafu ve tvaru cesty, cyklu nebo jako kompletní graf. Všechny funkce jako vstup berou graf `g`, počet nových vrcholů `n`, hodnotu `weight` pro nastavení váhy hran mezi novými vrcholy, a dále argumenty pro pozici podgrafu."
   ]
  },
  {
   "cell_type": "code",
   "execution_count": 3,
   "metadata": {},
   "outputs": [
    {
     "name": "stdout",
     "output_type": "stream",
     "text": [
      "Graph:\n",
      "   0 - 0, {1: 0.3}\n",
      "   1 - 0, {2: 1}\n",
      "   2 - 0, {1: 1, 3: 4}\n",
      "   3 - 0, {2: 4, 1: 1.5}\n",
      "   4 - 0, {5: 2, 8: 2}\n",
      "   5 - 0, {4: 2, 6: 2}\n",
      "   6 - 0, {5: 2, 7: 2}\n",
      "   7 - 0, {6: 2, 8: 2}\n",
      "   8 - 0, {7: 2, 4: 2}\n",
      "   9 - 0, {10: 1.2}\n",
      "  10 - 0, {9: 1.2, 11: 1.2}\n",
      "  11 - 0, {10: 1.2}\n",
      "\n"
     ]
    }
   ],
   "source": [
    "from gm.modules.graphconstructor import add_path, add_cycle\n",
    "\n",
    "add_cycle(g, 5, 2, 0.7, 0.3, 0.2)\n",
    "add_path(g, 3, 1.2, 0.14, 0.75, 0.5, -0.1)\n",
    "\n",
    "print(g)"
   ]
  },
  {
   "attachments": {},
   "cell_type": "markdown",
   "metadata": {},
   "source": [
    "## Vykreslení grafu\n",
    "\n",
    "Protože z výpisu vrcholů toho nejde příliš moc poznat, tak lze graf exportovat do svg souboru pomocí metody `export_svg()`.\n",
    "\n",
    "Aby šel exportovaný obrázek vidět v jupyter notebooku, importujeme ještě `SVG`."
   ]
  },
  {
   "cell_type": "code",
   "execution_count": 5,
   "metadata": {},
   "outputs": [
    {
     "data": {
      "image/svg+xml": "<svg width=\"500\" height=\"500\" stroke-width=\"2.5\" stroke=\"black\" fill=\"white\" version=\"1.1\">\n<defs>\n\t<marker id=\"arrow\" viewBox=\"0 0 10 10\" refX=\"10\" refY=\"5\" markerWidth=\"6\" markerHeight=\"6\" orient=\"auto-start-reverse\" fill=\"black\" stroke=\"none\">\n\t\t<path d=\"M 0 0 L 10 5 L 0 10 z\"/>\n\t</marker>\n</defs>\n<style>\n\t.num {\n\t\tfont: 25px sans-serif;\n\t\tfill: black;\n\t\tstroke: white;\n\t\tstroke-width: 5.0;\n\t\tpaint-order: stroke;\n\t\ttext-anchor: middle;\n\t\tdominant-baseline: middle;\n\t}\n</style>\n<rect width=\"100%\" height=\"100%\" stroke=\"none\"/>\n\n<!-- Edges -->\n<g>\n\t<line x1=\"192.09430584957906\" y1=\"251.28291754873715\" x2=\"157.90569415042094\" y2=\"148.71708245126285\" marker-end=\"url(#arrow)\"/>\n\t<line x1=\"125.7464374963667\" y1=\"131.0633906259083\" x2=\"74.2535625036333\" y2=\"143.9366093740917\"/>\n\t<line x1=\"63.624708764885355\" y1=\"170.96109040751594\" x2=\"101.37529123511464\" y2=\"229.03890959248406\"/>\n\t<line x1=\"121.74074813799928\" y1=\"225.92589950714546\" x2=\"143.25925186200072\" y2=\"149.07410049285454\" marker-end=\"url(#arrow)\"/>\n\t<line x1=\"370.2254248593737\" y1=\"64.69463130731182\" x2=\"424.88022677014163\" y2=\"104.4036692551934\"/>\n\t<line x1=\"329.7745751406263\" y1=\"64.69463130731182\" x2=\"275.1197732298583\" y2=\"104.40366925519345\"/>\n\t<line x1=\"437.38022677014163\" y1=\"142.87471346988409\" x2=\"416.50395008862097\" y2=\"207.1252865301159\"/>\n\t<line x1=\"383.7785252292473\" y1=\"230.90169943749473\" x2=\"316.22147477075265\" y2=\"230.90169943749476\"/>\n\t<line x1=\"283.496049911379\" y1=\"207.12528653011591\" x2=\"262.6197732298583\" y2=\"142.8747134698841\"/>\n\t<line x1=\"94.87510413195065\" y1=\"377.4958354161707\" x2=\"169.50041652780257\" y2=\"384.9833416646828\"/>\n\t<line x1=\"219.25062479170387\" y1=\"389.97501249702424\" x2=\"293.8759371875558\" y2=\"397.46251874553633\"/>\n</g>\n\n<!-- Weights -->\n<g>\n\t<text x=\"175.0\" y=\"200.0\" class=\"num\">0.3</text>\n\t<text x=\"100.0\" y=\"137.5\" class=\"num\">1</text>\n\t<text x=\"82.5\" y=\"200.0\" class=\"num\">4</text>\n\t<text x=\"132.5\" y=\"187.5\" class=\"num\">1.5</text>\n\t<text x=\"397.5528258147576\" y=\"84.54915028125262\" class=\"num\">2</text>\n\t<text x=\"302.4471741852423\" y=\"84.54915028125264\" class=\"num\">2</text>\n\t<text x=\"426.94208842938133\" y=\"175.0\" class=\"num\">2</text>\n\t<text x=\"350.0\" y=\"230.90169943749476\" class=\"num\">2</text>\n\t<text x=\"273.05791157061867\" y=\"175.0\" class=\"num\">2</text>\n\t<text x=\"132.1877603298766\" y=\"381.2395885404268\" class=\"num\">1.2</text>\n\t<text x=\"256.56328098962985\" y=\"393.7187656212803\" class=\"num\">1.2</text>\n</g>\n\n<!-- Vertices -->\n<g>\n\t<circle cx=\"200.0\" cy=\"275.0\" r=\"25\"/>\n\t<text x=\"200.0\" y=\"275.0\" class=\"num\">0</text>\n\t<circle cx=\"150.0\" cy=\"125.0\" r=\"25\"/>\n\t<text x=\"150.0\" y=\"125.0\" class=\"num\">1</text>\n\t<circle cx=\"50.0\" cy=\"150.0\" r=\"25\"/>\n\t<text x=\"50.0\" y=\"150.0\" class=\"num\">2</text>\n\t<circle cx=\"115.0\" cy=\"250.0\" r=\"25\"/>\n\t<text x=\"115.0\" y=\"250.0\" class=\"num\">3</text>\n\t<circle cx=\"350.0\" cy=\"49.999999999999986\" r=\"25\"/>\n\t<text x=\"350.0\" y=\"49.999999999999986\" class=\"num\">4</text>\n\t<circle cx=\"445.1056516295153\" cy=\"119.09830056250524\" r=\"25\"/>\n\t<text x=\"445.1056516295153\" y=\"119.09830056250524\" class=\"num\">5</text>\n\t<circle cx=\"408.7785252292473\" cy=\"230.90169943749473\" r=\"25\"/>\n\t<text x=\"408.7785252292473\" y=\"230.90169943749473\" class=\"num\">6</text>\n\t<circle cx=\"291.22147477075265\" cy=\"230.90169943749476\" r=\"25\"/>\n\t<text x=\"291.22147477075265\" y=\"230.90169943749476\" class=\"num\">7</text>\n\t<circle cx=\"254.89434837048464\" cy=\"119.09830056250529\" r=\"25\"/>\n\t<text x=\"254.89434837048464\" y=\"119.09830056250529\" class=\"num\">8</text>\n\t<circle cx=\"70.0\" cy=\"375.0\" r=\"25\"/>\n\t<text x=\"70.0\" y=\"375.0\" class=\"num\">9</text>\n\t<circle cx=\"194.37552065975322\" cy=\"387.4791770808535\" r=\"25\"/>\n\t<text x=\"194.37552065975322\" y=\"387.4791770808535\" class=\"num\">10</text>\n\t<circle cx=\"318.75104131950644\" cy=\"399.95835416170706\" r=\"25\"/>\n\t<text x=\"318.75104131950644\" y=\"399.95835416170706\" class=\"num\">11</text>\n</g>\n</svg>",
      "text/plain": [
       "<IPython.core.display.SVG object>"
      ]
     },
     "metadata": {},
     "output_type": "display_data"
    }
   ],
   "source": [
    "from IPython.display import SVG\n",
    "\n",
    "g.export_svg(\"./data/out.svg\", width=500, height=500, show_vertex_ids=True, show_weights=True)\n",
    "\n",
    "display(SVG(filename=\"./data/out.svg\"))"
   ]
  },
  {
   "attachments": {},
   "cell_type": "markdown",
   "metadata": {},
   "source": [
    "## Ukládání a načítání grafu\n",
    "\n",
    "Graf lze uložit za pomoci metody `save_file()` a naopak načíst pomocí metody `load_file()`."
   ]
  },
  {
   "cell_type": "code",
   "execution_count": 6,
   "metadata": {},
   "outputs": [
    {
     "name": "stdout",
     "output_type": "stream",
     "text": [
      "# This is an example saved graph\n",
      "# Lines with '#' symbol at the beginning are considered comments\n",
      "\n",
      "# Numbers after 'v' denote locations of all vertices\n",
      "# All these values should be in range [0,1]\n",
      "v\n",
      "0.1 0.1\n",
      "0.5 0.2\n",
      "0.3 0.5\n",
      "0.8 0.8\n",
      "\n",
      "# Numbers after 'e' denote weights of edges\n",
      "# The values for edges are in order FROM TO WEIGHT\n",
      "e\n",
      "0 1 8\n",
      "0 2 1\n",
      "1 0 8\n",
      "1 3 2\n",
      "2 1 3\n",
      "2 3 6\n",
      "3 1 2\n",
      "3 2 7\n",
      "\n",
      "# Loading graphs is done using Graph.load_file()"
     ]
    },
    {
     "data": {
      "image/svg+xml": "<svg width=\"400\" height=\"300\" stroke-width=\"2.5\" stroke=\"black\" fill=\"white\" version=\"1.1\">\n<defs>\n\t<marker id=\"arrow\" viewBox=\"0 0 10 10\" refX=\"10\" refY=\"5\" markerWidth=\"6\" markerHeight=\"6\" orient=\"auto-start-reverse\" fill=\"black\" stroke=\"none\">\n\t\t<path d=\"M 0 0 L 10 5 L 0 10 z\"/>\n\t</marker>\n</defs>\n<style>\n\t.num {\n\t\tfont: 25px sans-serif;\n\t\tfill: black;\n\t\tstroke: white;\n\t\tstroke-width: 5.0;\n\t\tpaint-order: stroke;\n\t\ttext-anchor: middle;\n\t\tdominant-baseline: middle;\n\t}\n</style>\n<rect width=\"100%\" height=\"100%\" stroke=\"none\"/>\n\n<!-- Edges -->\n<g>\n\t<line x1=\"64.57180467335805\" y1=\"34.607213376254634\" x2=\"175.42819532664194\" y2=\"55.392786623745366\"/>\n\t<line x1=\"53.867504905630724\" y1=\"50.801257358446094\" x2=\"106.13249509436928\" y2=\"129.1987426415539\" marker-end=\"url(#arrow)\"/>\n\t<line x1=\"213.86750490563074\" y1=\"80.8012573584461\" x2=\"306.1324950943693\" y2=\"219.1987426415539\"/>\n\t<line x1=\"136.609095970748\" y1=\"131.3147670329085\" x2=\"183.390904029252\" y2=\"78.6852329670915\" marker-end=\"url(#arrow)\"/>\n\t<line x1=\"144.8732382100846\" y1=\"147.48563706987474\" x2=\"305.38587872313536\" y2=\"219.71632530074757\" marker-end=\"url(#arrow)\"/>\n\t<line x1=\"134.61412127686464\" y1=\"170.28367469925243\" x2=\"295.1267617899154\" y2=\"242.51436293012526\" marker-start=\"url(#arrow)\"/>\n</g>\n\n<!-- Weights -->\n<g>\n\t<text x=\"120.0\" y=\"45.0\" class=\"num\">8</text>\n\t<text x=\"80.0\" y=\"90.0\" class=\"num\">1</text>\n\t<text x=\"260.0\" y=\"150.0\" class=\"num\">2</text>\n\t<text x=\"160.0\" y=\"105.0\" class=\"num\">3</text>\n\t<text x=\"225.12955846660998\" y=\"183.60098118531116\" class=\"num\">6</text>\n\t<text x=\"214.87044153339002\" y=\"206.39901881468884\" class=\"num\">7</text>\n</g>\n\n<!-- Vertices -->\n<g>\n\t<circle cx=\"40.0\" cy=\"30.0\" r=\"25\"/>\n\t<text x=\"40.0\" y=\"30.0\" class=\"num\">0</text>\n\t<circle cx=\"200.0\" cy=\"60.0\" r=\"25\"/>\n\t<text x=\"200.0\" y=\"60.0\" class=\"num\">1</text>\n\t<circle cx=\"120.0\" cy=\"150.0\" r=\"25\"/>\n\t<text x=\"120.0\" y=\"150.0\" class=\"num\">2</text>\n\t<circle cx=\"320.0\" cy=\"240.0\" r=\"25\"/>\n\t<text x=\"320.0\" y=\"240.0\" class=\"num\">3</text>\n</g>\n</svg>",
      "text/plain": [
       "<IPython.core.display.SVG object>"
      ]
     },
     "metadata": {},
     "output_type": "display_data"
    }
   ],
   "source": [
    "#show example in text form\n",
    "%cat \"./data/example.graph\"\n",
    "\n",
    "#load example\n",
    "h = Graph()\n",
    "h.load_file(\"./data/example.graph\")\n",
    "h.export_svg(\"out.svg\", width=400, height=300, show_vertex_ids=True, show_weights=True)\n",
    "display(SVG(filename=\"out.svg\"))"
   ]
  },
  {
   "cell_type": "code",
   "execution_count": 7,
   "metadata": {},
   "outputs": [
    {
     "name": "stdout",
     "output_type": "stream",
     "text": [
      "# File generated by GraphManager\n",
      "\n",
      "v\n",
      "0.4 0.55\n",
      "0.3 0.25\n",
      "0.1 0.3\n",
      "0.23 0.5\n",
      "0.7 0.09999999999999998\n",
      "0.8902113032590306 0.23819660112501048\n",
      "0.8175570504584946 0.46180339887498945\n",
      "0.5824429495415053 0.4618033988749895\n",
      "0.5097886967409693 0.23819660112501057\n",
      "0.14 0.75\n",
      "0.38875104131950644 0.774958354161707\n",
      "0.6375020826390129 0.7999167083234141\n",
      "\n",
      "e\n",
      "0 1 0.3\n",
      "1 2 1\n",
      "2 1 1\n",
      "2 3 4\n",
      "3 2 4\n",
      "3 1 1.5\n",
      "4 5 2\n",
      "4 8 2\n",
      "5 4 2\n",
      "5 6 2\n",
      "6 5 2\n",
      "6 7 2\n",
      "7 6 2\n",
      "7 8 2\n",
      "8 7 2\n",
      "8 4 2\n",
      "9 10 1.2\n",
      "10 9 1.2\n",
      "10 11 1.2\n",
      "11 10 1.2\n"
     ]
    }
   ],
   "source": [
    "#save graph and show file\n",
    "g.save_file(\"./data/saved.graph\")\n",
    "%cat \"./data/saved.graph\""
   ]
  },
  {
   "attachments": {},
   "cell_type": "markdown",
   "metadata": {},
   "source": [
    "## Využití algoritmů\n",
    "\n",
    "Soubory s algoritmy jsou uloženy ve složce `modules`. Pro ukázku využijeme graf `alg_showcase.graph`."
   ]
  },
  {
   "cell_type": "code",
   "execution_count": 8,
   "metadata": {},
   "outputs": [
    {
     "data": {
      "image/svg+xml": "<svg width=\"500\" height=\"500\" stroke-width=\"2.5\" stroke=\"black\" fill=\"white\" version=\"1.1\">\n<defs>\n\t<marker id=\"arrow\" viewBox=\"0 0 10 10\" refX=\"10\" refY=\"5\" markerWidth=\"6\" markerHeight=\"6\" orient=\"auto-start-reverse\" fill=\"black\" stroke=\"none\">\n\t\t<path d=\"M 0 0 L 10 5 L 0 10 z\"/>\n\t</marker>\n</defs>\n<style>\n\t.num {\n\t\tfont: 25px sans-serif;\n\t\tfill: black;\n\t\tstroke: white;\n\t\tstroke-width: 5.0;\n\t\tpaint-order: stroke;\n\t\ttext-anchor: middle;\n\t\tdominant-baseline: middle;\n\t}\n</style>\n<rect width=\"100%\" height=\"100%\" stroke=\"none\"/>\n\n<!-- Edges -->\n<g>\n\t<line x1=\"192.09430584957906\" y1=\"251.28291754873715\" x2=\"157.90569415042094\" y2=\"148.71708245126285\" marker-end=\"url(#arrow)\"/>\n\t<line x1=\"125.7464374963667\" y1=\"131.0633906259083\" x2=\"74.2535625036333\" y2=\"143.9366093740917\"/>\n\t<line x1=\"174.96052424767586\" y1=\"123.59563919123852\" x2=\"229.93382412280877\" y2=\"120.50266137126677\" marker-end=\"url(#arrow)\"/>\n\t<line x1=\"170.00097934468977\" y1=\"139.99869411826555\" x2=\"271.2204954260629\" y2=\"215.9030053192292\"/>\n\t<line x1=\"63.624708764885355\" y1=\"170.96109040751594\" x2=\"101.37529123511464\" y2=\"229.03890959248406\"/>\n\t<line x1=\"121.74074813799928\" y1=\"225.92589950714546\" x2=\"143.25925186200072\" y2=\"149.07410049285454\" marker-end=\"url(#arrow)\"/>\n\t<line x1=\"106.53201329318145\" y1=\"273.5221852967182\" x2=\"78.46798670681855\" y2=\"351.4778147032818\"/>\n\t<line x1=\"370.2254248593737\" y1=\"64.69463130731182\" x2=\"424.88022677014163\" y2=\"104.4036692551934\"/>\n\t<line x1=\"329.7745751406263\" y1=\"64.69463130731182\" x2=\"275.1197732298583\" y2=\"104.40366925519345\"/>\n\t<line x1=\"342.2745751406263\" y1=\"73.77641290737883\" x2=\"298.9468996301263\" y2=\"207.12528653011591\"/>\n\t<line x1=\"437.38022677014163\" y1=\"142.87471346988409\" x2=\"416.50395008862097\" y2=\"207.1252865301159\"/>\n\t<line x1=\"383.7785252292473\" y1=\"230.90169943749473\" x2=\"316.22147477075265\" y2=\"230.90169943749476\"/>\n\t<line x1=\"283.496049911379\" y1=\"207.12528653011591\" x2=\"262.6197732298583\" y2=\"142.8747134698841\"/>\n\t<line x1=\"307.0387668351259\" y1=\"250.2617942655248\" x2=\"327.6087292280696\" y2=\"376.5801300008668\" marker-end=\"url(#arrow)\"/>\n\t<line x1=\"282.3637868621895\" y1=\"254.279923598335\" x2=\"302.9337492551332\" y2=\"380.598259333677\" marker-start=\"url(#arrow)\"/>\n\t<line x1=\"94.87510413195065\" y1=\"377.4958354161707\" x2=\"169.50041652780257\" y2=\"384.9833416646828\"/>\n\t<line x1=\"219.25062479170387\" y1=\"389.97501249702424\" x2=\"293.8759371875558\" y2=\"397.46251874553633\"/>\n\t<line x1=\"195.62407633585693\" y1=\"362.51037437179934\" x2=\"198.7514443238963\" y2=\"299.96880270905416\" marker-end=\"url(#arrow)\"/>\n\t<line x1=\"330.5019179169423\" y1=\"377.89216057985357\" x2=\"397.0276486318114\" y2=\"252.96789301934825\" marker-end=\"url(#arrow)\"/>\n</g>\n\n<!-- Weights -->\n<g>\n\t<text x=\"175.0\" y=\"200.0\" class=\"num\">3</text>\n\t<text x=\"100.0\" y=\"137.5\" class=\"num\">1</text>\n\t<text x=\"202.44717418524232\" y=\"122.04915028125265\" class=\"num\">4</text>\n\t<text x=\"220.61073738537632\" y=\"177.95084971874738\" class=\"num\">6</text>\n\t<text x=\"82.5\" y=\"200.0\" class=\"num\">4</text>\n\t<text x=\"132.5\" y=\"187.5\" class=\"num\">1.5</text>\n\t<text x=\"92.5\" y=\"312.5\" class=\"num\">2</text>\n\t<text x=\"397.5528258147576\" y=\"84.54915028125262\" class=\"num\">2</text>\n\t<text x=\"302.4471741852423\" y=\"84.54915028125264\" class=\"num\">2</text>\n\t<text x=\"320.6107373853763\" y=\"140.45084971874738\" class=\"num\">0.1</text>\n\t<text x=\"426.94208842938133\" y=\"175.0\" class=\"num\">2</text>\n\t<text x=\"350.0\" y=\"230.90169943749476\" class=\"num\">2</text>\n\t<text x=\"273.05791157061867\" y=\"175.0\" class=\"num\">2</text>\n\t<text x=\"317.32374803159775\" y=\"313.4209621331958\" class=\"num\">6</text>\n\t<text x=\"292.64876805866135\" y=\"317.439091466006\" class=\"num\">3</text>\n\t<text x=\"132.1877603298766\" y=\"381.2395885404268\" class=\"num\">1.2</text>\n\t<text x=\"256.56328098962985\" y=\"393.7187656212803\" class=\"num\">1.2</text>\n\t<text x=\"197.1877603298766\" y=\"331.2395885404268\" class=\"num\">0.9</text>\n\t<text x=\"363.7647832743769\" y=\"315.4300267996009\" class=\"num\">0.1</text>\n</g>\n\n<!-- Vertices -->\n<g>\n\t<circle cx=\"200.0\" cy=\"275.0\" r=\"25\"/>\n\t<text x=\"200.0\" y=\"275.0\" class=\"num\">0</text>\n\t<circle cx=\"150.0\" cy=\"125.0\" r=\"25\"/>\n\t<text x=\"150.0\" y=\"125.0\" class=\"num\">1</text>\n\t<circle cx=\"50.0\" cy=\"150.0\" r=\"25\"/>\n\t<text x=\"50.0\" y=\"150.0\" class=\"num\">2</text>\n\t<circle cx=\"115.0\" cy=\"250.0\" r=\"25\"/>\n\t<text x=\"115.0\" y=\"250.0\" class=\"num\">3</text>\n\t<circle cx=\"350.0\" cy=\"49.999999999999986\" r=\"25\"/>\n\t<text x=\"350.0\" y=\"49.999999999999986\" class=\"num\">4</text>\n\t<circle cx=\"445.1056516295153\" cy=\"119.09830056250524\" r=\"25\"/>\n\t<text x=\"445.1056516295153\" y=\"119.09830056250524\" class=\"num\">5</text>\n\t<circle cx=\"408.7785252292473\" cy=\"230.90169943749473\" r=\"25\"/>\n\t<text x=\"408.7785252292473\" y=\"230.90169943749473\" class=\"num\">6</text>\n\t<circle cx=\"291.22147477075265\" cy=\"230.90169943749476\" r=\"25\"/>\n\t<text x=\"291.22147477075265\" y=\"230.90169943749476\" class=\"num\">7</text>\n\t<circle cx=\"254.89434837048464\" cy=\"119.09830056250529\" r=\"25\"/>\n\t<text x=\"254.89434837048464\" y=\"119.09830056250529\" class=\"num\">8</text>\n\t<circle cx=\"70.0\" cy=\"375.0\" r=\"25\"/>\n\t<text x=\"70.0\" y=\"375.0\" class=\"num\">9</text>\n\t<circle cx=\"194.37552065975322\" cy=\"387.4791770808535\" r=\"25\"/>\n\t<text x=\"194.37552065975322\" y=\"387.4791770808535\" class=\"num\">10</text>\n\t<circle cx=\"318.75104131950644\" cy=\"399.95835416170706\" r=\"25\"/>\n\t<text x=\"318.75104131950644\" y=\"399.95835416170706\" class=\"num\">11</text>\n\t<circle cx=\"450.0\" cy=\"425.0\" r=\"25\"/>\n\t<text x=\"450.0\" y=\"425.0\" class=\"num\">12</text>\n</g>\n</svg>",
      "text/plain": [
       "<IPython.core.display.SVG object>"
      ]
     },
     "metadata": {},
     "output_type": "display_data"
    }
   ],
   "source": [
    "from gm.modules.alg1 import dfs, bfs\n",
    "from gm.modules.alg2 import dijkstra\n",
    "\n",
    "g.load_file(\"./data/alg_showcase.graph\")\n",
    "g.export_svg(\"./data/out.svg\", show_vertex_ids=True, show_weights=True)\n",
    "display(SVG(filename=\"./data/out.svg\"))"
   ]
  },
  {
   "attachments": {},
   "cell_type": "markdown",
   "metadata": {},
   "source": [
    "### Hledání cesty v grafu\n",
    "\n",
    "**DFS** (depth-first search, průchod do hloubky), **BFS** (breadth-first search, průchod do šířky) i **Dijkstra** jsou algoritmy pro hledání cesty v grafu z vrcholu A do vrcholu B.\n",
    "\n",
    "Informace, jak jednotlivé algoritmy fungují:\n",
    "- DFS - https://en.wikipedia.org/wiki/Depth-first_search\n",
    "- BFS - https://en.wikipedia.org/wiki/Breadth-first_search\n",
    "- Dijkstra - https://en.wikipedia.org/wiki/Dijkstra%27s_algorithm\n",
    "\n",
    "\n",
    "Zde implementované funkce přijímají jako parametry graf `graph` a vrcholy `v_start` a `v_end`, které označují odkud a kam chceme hledat cestu.\n",
    "\n",
    "Všechny funkce vrací tuple `(bool, float, list)` jako výsledek. První hodnota označuje, jestli chtěná cesta vůbec existuje. Druhá hodnota značí délku nalezené cesty. Poslední hodnota je list vrcholů, přes které cesta vede."
   ]
  },
  {
   "cell_type": "code",
   "execution_count": 9,
   "metadata": {},
   "outputs": [
    {
     "name": "stdout",
     "output_type": "stream",
     "text": [
      "Hledání cesty z 9 do 8:\n",
      "       DFS:  13.4 - [9, 10, 11, 7, 6, 5, 4, 8]\n",
      "       BFS:   7.5 - [9, 3, 1, 8]\n",
      "  Dijkstra:   6.5 - [9, 10, 11, 6, 7, 8]\n"
     ]
    }
   ],
   "source": [
    "#change these values to see the algoritmhs in action\n",
    "vertex_1 = 9\n",
    "vertex_2 = 8\n",
    "\n",
    "vals = [(\"DFS\",) + dfs(g, vertex_1, vertex_2), (\"BFS\",) + bfs(g, vertex_1, vertex_2), (\"Dijkstra\",) + dijkstra(g, vertex_1, vertex_2)]\n",
    "print(f\"Hledání cesty z {vertex_1} do {vertex_2}:\")\n",
    "for v in vals:\n",
    "    print(f\"{v[0]:>10}: {f'{v[2]:5.1f} - {v[3]}' if v[1] else 'Cesta nenalezena'}\")"
   ]
  }
 ],
 "metadata": {
  "kernelspec": {
   "display_name": "Python 3",
   "language": "python",
   "name": "python3"
  },
  "language_info": {
   "codemirror_mode": {
    "name": "ipython",
    "version": 3
   },
   "file_extension": ".py",
   "mimetype": "text/x-python",
   "name": "python",
   "nbconvert_exporter": "python",
   "pygments_lexer": "ipython3",
   "version": "3.10.6"
  },
  "orig_nbformat": 4
 },
 "nbformat": 4,
 "nbformat_minor": 2
}
